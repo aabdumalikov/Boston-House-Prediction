{
 "cells": [
  {
   "cell_type": "code",
   "execution_count": null,
   "id": "initial_id",
   "metadata": {
    "collapsed": true,
    "is_executing": true
   },
   "outputs": [],
   "source": [
    "%pip install scikit-learn\n",
    "%pip install matplotlib\n",
    "%pip install plotly-express\n",
    "%pip install seaborn"
   ]
  },
  {
   "cell_type": "code",
   "outputs": [],
   "source": [
    "import pandas as pd\n",
    "from sklearn.linear_model import LinearRegression\n",
    "from sklearn import metrics\n",
    "from sklearn.metrics import r2_score\n",
    "import matplotlib.pyplot as plt\n",
    "import plotly.express as px\n",
    "from plotly.subplots import make_subplots\n",
    "import plotly.graph_objects as go\n",
    "import seaborn as sn\n",
    "import numpy as np"
   ],
   "metadata": {
    "collapsed": false,
    "is_executing": true
   },
   "id": "7bd8ea55aacd2e2b"
  },
  {
   "cell_type": "code",
   "outputs": [],
   "source": [
    "data = \"boston.csv\""
   ],
   "metadata": {
    "collapsed": false,
    "is_executing": true
   },
   "id": "efacb379d8a52018"
  },
  {
   "cell_type": "code",
   "outputs": [],
   "source": [
    "def load_dataset(path):\n",
    "    return pd.read_csv(path)\n",
    "boston_dataframe = load_dataset(data)"
   ],
   "metadata": {
    "collapsed": false,
    "is_executing": true
   },
   "id": "2465e1dfffeae7be"
  },
  {
   "cell_type": "code",
   "outputs": [],
   "source": [
    "def print_summarize_dataset(dataset):\n",
    "    print(\"Dataset dimension:\")\n",
    "    print(dataset.shape)\n",
    "    print(\"First 10 rows of dataset:\")\n",
    "    print(dataset.head(10))\n",
    "    print(\"Summarize\")\n",
    "    print(dataset.describe())"
   ],
   "metadata": {
    "collapsed": false,
    "is_executing": true
   },
   "id": "e63f0321db8bed4e"
  },
  {
   "cell_type": "code",
   "outputs": [],
   "source": [
    "def clean_dataset(boston_dataframe):\n",
    "    return boston_dataframe.isnull().sum()"
   ],
   "metadata": {
    "collapsed": false,
    "is_executing": true
   },
   "id": "db99af208f5b515e"
  },
  {
   "cell_type": "code",
   "outputs": [],
   "source": [
    "def print_histograms(boston_dataframe):\n",
    "    fig = make_subplots(rows=5, cols=3, subplot_titles=[\n",
    "        \"CRIM\", \"ZN\", \"INDUS\", \"CHAS\", \"NOX\", \"RM\", \"AGE\", \"DIS\", \"RAD\", \"TAX\", \"PTRATIO\", \"B\", \"LSTAT\"\n",
    "    ])\n",
    "    \n",
    "    fig.add_trace(go.Histogram(x=boston_dataframe['CRIM'], name='CRIM', nbinsx=20), col=1, row=1)\n",
    "    fig.add_trace(go.Histogram(x=boston_dataframe['ZN'], name='ZN', nbinsx=20), col=2, row=1)\n",
    "    fig.add_trace(go.Histogram(x=boston_dataframe['INDUS'], name='INDUS', nbinsx=20), col=3, row=1)\n",
    "    fig.add_trace(go.Histogram(x=boston_dataframe['CHAS'], name='CHAS', nbinsx=20), col=1, row=2)\n",
    "    fig.add_trace(go.Histogram(x=boston_dataframe['NOX'], name='NOX', nbinsx=20), col=2, row=2)\n",
    "    fig.add_trace(go.Histogram(x=boston_dataframe['RM'], name='RM', nbinsx=20), col=3, row=2)\n",
    "    fig.add_trace(go.Histogram(x=boston_dataframe['AGE'], name='AGE', nbinsx=20), col=1, row=3)\n",
    "    fig.add_trace(go.Histogram(x=boston_dataframe['DIS'], name='DIS', nbinsx=20), col=2, row=3)\n",
    "    fig.add_trace(go.Histogram(x=boston_dataframe['RAD'], name='RAD', nbinsx=20), col=3, row=3)\n",
    "    fig.add_trace(go.Histogram(x=boston_dataframe['TAX'], name='TAX', nbinsx=20), col=1, row=4)\n",
    "    fig.add_trace(go.Histogram(x=boston_dataframe['PTRATIO'], name='PTRATIO', nbinsx=20), col=2, row=4)\n",
    "    fig.add_trace(go.Histogram(x=boston_dataframe['B'], name='B', nbinsx=20), col=3, row=4)\n",
    "    fig.add_trace(go.Histogram(x=boston_dataframe['LSTAT'], name='LSTAT', nbinsx=20), col=1, row=5)\n",
    "    \n",
    "    fig.update_layout(height=800, width=1600, title=\"Distribution of Boston Dataframe\")\n",
    "    \n",
    "    fig.update_layout(legend=dict(\n",
    "        orientation=\"h\",\n",
    "        yanchor=\"bottom\",\n",
    "        y=1.02,\n",
    "        xanchor=\"right\",\n",
    "        x=1\n",
    "    ))\n",
    "    \n",
    "    return fig.show()\n",
    "print_histograms(boston_dataframe)"
   ],
   "metadata": {
    "collapsed": false,
    "is_executing": true
   },
   "id": "ed6f84291916a998"
  },
  {
   "cell_type": "code",
   "outputs": [],
   "source": [
    "def compute_correlations_matrix(boston_dataframe):\n",
    "    return boston_dataframe.corr()\n",
    "correlations = compute_correlations_matrix(boston_dataframe)"
   ],
   "metadata": {
    "collapsed": false,
    "is_executing": true
   },
   "id": "dba33b2ad6cccb5a"
  },
  {
   "cell_type": "code",
   "outputs": [],
   "source": [
    "fig = px.imshow(correlations, width=700, height=700, title=\"Correlation of dataframe\", text_auto=True)\n",
    "fig.show()"
   ],
   "metadata": {
    "collapsed": false,
    "is_executing": true
   },
   "id": "c940bb4166eb1ebc"
  },
  {
   "cell_type": "code",
   "outputs": [],
   "source": [
    "fig = px.scatter(correlation_df, x=boston_dataframe['RM'], y=boston_dataframe['MDEV'])\n",
    "fig.update_layout(title='Correlation coefficient between the median value and the number of rooms', xaxis_title='MDEV', yaxis_title='RM')\n",
    "fig.show()"
   ],
   "metadata": {
    "collapsed": false,
    "is_executing": true
   },
   "id": "9849d04445f563bb"
  },
  {
   "cell_type": "code",
   "outputs": [],
   "source": [
    "correlations['MDEV']"
   ],
   "metadata": {
    "collapsed": false,
    "is_executing": true
   },
   "id": "2cd035fe4eada3e6"
  },
  {
   "cell_type": "code",
   "outputs": [],
   "source": [
    "def print_scatter_matrix(boston_dataframe):\n",
    "    sn.pairplot(boston_dataframe)\n",
    "    plt.show()\n",
    "print_scatter_matrix(boston_dataframe)"
   ],
   "metadata": {
    "collapsed": false,
    "is_executing": true
   },
   "id": "e69a5ee641a9b91b"
  },
  {
   "cell_type": "code",
   "outputs": [],
   "source": [
    "fig = px.scatter(boston_dataframe, x=\"RM\", y=\"MDEV\", title=\"Median Value vs. Number of Rooms\")\n",
    "fig.show()"
   ],
   "metadata": {
    "collapsed": false,
    "is_executing": true
   },
   "id": "1b602a7fb0f62c96"
  },
  {
   "cell_type": "code",
   "outputs": [],
   "source": [
    "fig = make_subplots(rows=1, cols=3, subplot_titles=['LSTAT', 'AGE', 'CRIM'])\n",
    "\n",
    "\n",
    "fig.add_trace(go.Scatter(x=boston_dataframe['LSTAT'], y=boston_dataframe['MDEV'], mode='markers', name='LSTAT'), col=1, row=1)\n",
    "fig.add_trace(go.Scatter(x=boston_dataframe['AGE'], y=boston_dataframe['MDEV'], mode='markers', name='AGE'), col=2, row=1)\n",
    "fig.add_trace(go.Scatter(x=boston_dataframe['CRIM'], y=boston_dataframe['MDEV'], mode='markers', name='CRIM'), col=3, row=1)\n",
    "\n",
    "fig.show()"
   ],
   "metadata": {
    "collapsed": false,
    "is_executing": true
   },
   "id": "8a130852c244f168"
  },
  {
   "cell_type": "code",
   "outputs": [],
   "source": [
    "fig = px.scatter(boston_dataframe, x='AGE', y='LSTAT')\n",
    "fig.show()"
   ],
   "metadata": {
    "collapsed": false,
    "is_executing": true
   },
   "id": "7917f0cd8d8af683"
  },
  {
   "cell_type": "code",
   "outputs": [],
   "source": [
    "def boston_fit_model(boston_dataframe):\n",
    "    model_dataset = boston_dataframe[['RM', 'MDEV']]\n",
    "    regressor = LinearRegression()\n",
    "    x = model_dataset.iloc[:, :-1].values\n",
    "    y = model_dataset.iloc[:, 1].values\n",
    "    regressor.fit(x, y)\n",
    "    return regressor"
   ],
   "metadata": {
    "collapsed": false,
    "is_executing": true
   },
   "id": "d180fec6d087751d"
  },
  {
   "cell_type": "code",
   "outputs": [],
   "source": [
    "def boston_predict(estimator, array_to_predict):\n",
    "    return estimator.predict(array_to_predict)"
   ],
   "metadata": {
    "collapsed": false,
    "is_executing": true
   },
   "id": "56338aa941e06c90"
  },
  {
   "cell_type": "code",
   "outputs": [],
   "source": [
    "data = np.array([1, 2, 3]).reshape(-1, 1)\n",
    "estimator = boston_fit_model(boston_dataframe)\n",
    "y_pred = boston_predict(estimator, data)\n",
    "y_pred"
   ],
   "metadata": {
    "collapsed": false,
    "is_executing": true
   },
   "id": "23bd4d61844686fe"
  },
  {
   "cell_type": "code",
   "outputs": [],
   "source": [
    "from sklearn.model_selection import train_test_split\n",
    "model_dataset = boston_dataframe[['RM', 'MDEV']]\n",
    "regressor = LinearRegression()\n",
    "x = model_dataset.iloc[:, :-1].values\n",
    "y = model_dataset.iloc[:, 1].values\n",
    "X_train, X_test, y_train, y_test = train_test_split(x, y, test_size=0.2, random_state=1)\n",
    "y_pred = boston_predict(estimator, X_test)\n",
    "r2_score(y_test, y_pred)"
   ],
   "metadata": {
    "collapsed": false,
    "is_executing": true
   },
   "id": "d538475f8815b71d"
  },
  {
   "cell_type": "code",
   "outputs": [],
   "source": [
    "def print_model_prediction_evaluator(base_test, prediction):\n",
    "  print('Mean Absolute Error:', metrics.mean_absolute_error(base_test, prediction))\n",
    "  print('Mean Squared Error:', metrics.mean_squared_error(base_test, prediction))\n",
    "  print('Root Mean Squared Error:', np.sqrt(metrics.mean_squared_error(base_test, prediction)))\n",
    "print_model_prediction_evaluator(y_test, y_pred)"
   ],
   "metadata": {
    "collapsed": false,
    "is_executing": true
   },
   "id": "ab33a528d0ed4409"
  },
  {
   "cell_type": "code",
   "outputs": [],
   "source": [],
   "metadata": {
    "collapsed": false
   },
   "id": "89bb5b959160e5be"
  }
 ],
 "metadata": {
  "kernelspec": {
   "display_name": "Python 3",
   "language": "python",
   "name": "python3"
  },
  "language_info": {
   "codemirror_mode": {
    "name": "ipython",
    "version": 2
   },
   "file_extension": ".py",
   "mimetype": "text/x-python",
   "name": "python",
   "nbconvert_exporter": "python",
   "pygments_lexer": "ipython2",
   "version": "2.7.6"
  }
 },
 "nbformat": 4,
 "nbformat_minor": 5
}
